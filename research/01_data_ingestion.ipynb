{
 "cells": [
  {
   "cell_type": "code",
   "execution_count": 210,
   "metadata": {},
   "outputs": [],
   "source": [
    "import os"
   ]
  },
  {
   "cell_type": "code",
   "execution_count": 211,
   "metadata": {},
   "outputs": [],
   "source": [
    "filepath = r'D:/Data Science/GIT Projects/End-to-End-Image-Classification'"
   ]
  },
  {
   "cell_type": "code",
   "execution_count": 212,
   "metadata": {},
   "outputs": [],
   "source": [
    "os.chdir(filepath)"
   ]
  },
  {
   "cell_type": "code",
   "execution_count": 213,
   "metadata": {},
   "outputs": [
    {
     "data": {
      "text/plain": [
       "'D:\\\\Data Science\\\\GIT Projects\\\\End-to-End-Image-Classification'"
      ]
     },
     "execution_count": 213,
     "metadata": {},
     "output_type": "execute_result"
    }
   ],
   "source": [
    "%pwd\n"
   ]
  },
  {
   "cell_type": "code",
   "execution_count": 214,
   "metadata": {},
   "outputs": [],
   "source": [
    "from dataclasses import dataclass\n",
    "from pathlib import Path"
   ]
  },
  {
   "cell_type": "code",
   "execution_count": 215,
   "metadata": {},
   "outputs": [],
   "source": [
    "@dataclass(frozen=True)\n",
    "class DataIngestionConfig:\n",
    "    root_dir: Path\n",
    "    source: Path\n",
    "    local_data_file: Path\n",
    "    unzip_dir: Path"
   ]
  },
  {
   "cell_type": "code",
   "execution_count": 216,
   "metadata": {},
   "outputs": [],
   "source": [
    "from cnn_image_classifier.constants import *\n",
    "from cnn_image_classifier.utils.common import read_yaml_file, create_directories\n",
    "\n",
    "class Config_Manager:\n",
    "    def __init__(self, config_file_path: Path = config_path, param_file_path: Path = param_path):\n",
    "        self.config = read_yaml_file(config_file_path)\n",
    "        self.params = read_yaml_file(param_file_path)\n",
    "        create_directories([self.config.artifact_root])\n",
    "\n",
    "    def get_data_ingestion_config(self)-> DataIngestionConfig:\n",
    "        config = self.config.data_ingestion\n",
    "        create_directories([config.root_dir])\n",
    "        \n",
    "        data_ingestion_config = DataIngestionConfig(\n",
    "            root_dir = Path(config.root_dir),\n",
    "            source = Path(config.source),\n",
    "            local_data_file = Path(config.local_data_file),\n",
    "            unzip_dir = Path(config.unzip_dir)\n",
    "        )\n",
    "\n",
    "        return data_ingestion_config\n",
    "        \n",
    "\n"
   ]
  },
  {
   "cell_type": "code",
   "execution_count": 217,
   "metadata": {},
   "outputs": [],
   "source": [
    "import os\n",
    "import zipfile\n",
    "import gdown\n",
    "from cnn_image_classifier import logger\n",
    "from cnn_image_classifier.utils.common import getsize\n"
   ]
  },
  {
   "cell_type": "code",
   "execution_count": 218,
   "metadata": {},
   "outputs": [],
   "source": [
    "class DataIngestion:\n",
    "    def __init__(self, config: DataIngestionConfig):\n",
    "        self.config = config\n",
    "\n",
    "    def download_data(self):\n",
    "        if not os.path.exists(self.config.local_data_file):            \n",
    "            url = f\"https://drive.google.com/uc?id={self.config.source}\"\n",
    "            save_path = self.config.local_data_file\n",
    "            gdown.download(url, str(save_path), quiet=False)\n",
    "            #session = requests.Session()\n",
    "            #url = f'https://drive.google.com/uc?export=download&id={self.config.source}'\n",
    "            #reponse = session.get(url, stream=True)\n",
    "            #confirm_token = None\n",
    "            #for key,value in reponse.cookies.items():\n",
    "            #    if key.startswith('download_warning'):\n",
    "            #        confirm_token = value\n",
    "            #download_url = f\"https://drive.google.com/uc?export=download&id={self.config.source}&confirm={confirm_token}\"\n",
    "            #response = session.get(url, stream=True)\n",
    "            #with open(self.config.local_data_file, 'wb') as f:\n",
    "            #    for chunk in response.iter_content(1024):\n",
    "            #        f.write(chunk)\n",
    "            logger.info(f\"Data downloaded at {self.config.local_data_file}\")\n",
    "        else:\n",
    "            logger.info(f\"Data already exists at {self.config.local_data_file}\")\n",
    "    def extract_data(self):\n",
    "        unzip_path = self.config.unzip_dir\n",
    "        os.makedirs(unzip_path, exist_ok=True)\n",
    "        with zipfile.ZipFile(self.config.local_data_file, 'r') as zip_ref:\n",
    "            zip_ref.extractall(unzip_path)\n"
   ]
  },
  {
   "cell_type": "code",
   "execution_count": null,
   "metadata": {},
   "outputs": [
    {
     "name": "stdout",
     "output_type": "stream",
     "text": [
      "[2025-02-21 00:20:45,550 : INFO : common] - yaml file:config.yaml has been read successfully.\n",
      "[2025-02-21 00:20:45,552 : INFO : common] - yaml file:params.yaml has been read successfully.\n",
      "[2025-02-21 00:20:45,553 : INFO : common] - directory:artifacts has been created successfully.\n",
      "[2025-02-21 00:20:45,553 : INFO : common] - directory:artifacts/data_ingestion has been created successfully.\n"
     ]
    },
    {
     "name": "stderr",
     "output_type": "stream",
     "text": [
      "Downloading...\n",
      "From (original): https://drive.google.com/uc?id=1HclwA9zvctv5pUZWrwHn70P51OOuYNqy\n",
      "From (redirected): https://drive.google.com/uc?id=1HclwA9zvctv5pUZWrwHn70P51OOuYNqy&confirm=t&uuid=fdd7c3a5-90ae-4547-9e2b-c414886f778e\n",
      "To: D:\\Data Science\\GIT Projects\\End-to-End-Image-Classification\\artifacts\\data_ingestion\\dog-breed-identification.zip\n",
      "100%|██████████| 725M/725M [00:57<00:00, 12.6MB/s] "
     ]
    },
    {
     "name": "stdout",
     "output_type": "stream",
     "text": [
      "[2025-02-21 00:21:47,962 : INFO : 2533330436] - Data downloaded at artifacts\\data_ingestion\\dog-breed-identification.zip\n"
     ]
    },
    {
     "name": "stderr",
     "output_type": "stream",
     "text": [
      "\n"
     ]
    }
   ],
   "source": [
    "configuration_manager = Config_Manager()\n",
    "data_ingestion_config = configuration_manager.get_data_ingestion_config()\n",
    "data_ingestion = DataIngestion(data_ingestion_config)\n",
    "data_ingestion.download_data()\n",
    "data_ingestion.extract_data() "
   ]
  }
 ],
 "metadata": {
  "kernelspec": {
   "display_name": "Python 3",
   "language": "python",
   "name": "python3"
  },
  "language_info": {
   "codemirror_mode": {
    "name": "ipython",
    "version": 3
   },
   "file_extension": ".py",
   "mimetype": "text/x-python",
   "name": "python",
   "nbconvert_exporter": "python",
   "pygments_lexer": "ipython3",
   "version": "3.12.9"
  }
 },
 "nbformat": 4,
 "nbformat_minor": 2
}
