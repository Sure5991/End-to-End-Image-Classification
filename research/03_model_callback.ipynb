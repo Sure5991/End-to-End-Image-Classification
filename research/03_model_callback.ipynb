{
 "cells": [
  {
   "cell_type": "code",
   "execution_count": 74,
   "metadata": {},
   "outputs": [
    {
     "data": {
      "text/plain": [
       "'D:\\\\Data Science\\\\GIT Projects\\\\End-to-End-Image-Classification'"
      ]
     },
     "execution_count": 74,
     "metadata": {},
     "output_type": "execute_result"
    }
   ],
   "source": [
    "import os\n",
    "filepath = r'D:/Data Science/GIT Projects/End-to-End-Image-Classification'\n",
    "os.chdir(filepath)\n",
    "%pwd"
   ]
  },
  {
   "cell_type": "code",
   "execution_count": 75,
   "metadata": {},
   "outputs": [],
   "source": [
    "from dataclasses import dataclass\n",
    "from pathlib import Path"
   ]
  },
  {
   "cell_type": "code",
   "execution_count": 76,
   "metadata": {},
   "outputs": [],
   "source": [
    "@dataclass(frozen=True)\n",
    "class Callback_Config:\n",
    "    root_dir: Path\n",
    "    model_checkpoint: Path\n",
    "    tensorboard_dir: Path"
   ]
  },
  {
   "cell_type": "code",
   "execution_count": 77,
   "metadata": {},
   "outputs": [],
   "source": [
    "from cnn_image_classifier.constants import *\n",
    "from cnn_image_classifier.utils.common import read_yaml_file,create_directories"
   ]
  },
  {
   "cell_type": "code",
   "execution_count": null,
   "metadata": {},
   "outputs": [],
   "source": [
    "class Config_Manager:\n",
    "    def __init__(self, config_file_path: Path = config_path, param_file_path: Path = param_path):\n",
    "        self.config = read_yaml_file(config_file_path)\n",
    "        self.params = read_yaml_file(param_file_path)\n",
    "        create_directories([self.config.artifact_root])\n",
    "\n",
    "    def get_callbacks_config(self)-> Callback_Config:\n",
    "        config = self.config.callbacks\n",
    "        model_checkpoint_dir = os.path.dirname(config.model_checkpoint_filepath)\n",
    "        create_directories([config.tensorboard_dir,model_checkpoint_dir])\n",
    "        callback_config = Callback_Config(\n",
    "            root_dir = Path(config.root_dir),\n",
    "            model_checkpoint = Path(config.model_checkpoint_filepath),\n",
    "            tensorboard_dir = Path(config.tensorboard_dir))\n",
    "\n",
    "        return callback_config\n"
   ]
  },
  {
   "cell_type": "code",
   "execution_count": 79,
   "metadata": {},
   "outputs": [],
   "source": [
    "import tensorflow as tf\n",
    "import time\n"
   ]
  },
  {
   "cell_type": "code",
   "execution_count": null,
   "metadata": {},
   "outputs": [],
   "source": [
    "class Prepare_Callback:\n",
    "    def __init__(self, config : Callback_Config):\n",
    "        self.config = config\n",
    "\n",
    "    @property\n",
    "    def create_tb_callback(self):\n",
    "        timestamp = time.strftime(\"%Y_%m_%d-%H:%M:%S\")\n",
    "        tb_running_log_dir = os.path.join(self.config.tensorboard_dir,f'tb_logs_at_{timestamp}')\n",
    "        return tf.keras.callbacks.TensorBoard(log_dir = tb_running_log_dir)\n",
    "    \n",
    "    @property\n",
    "    def create_checkpoint_callback(self):\n",
    "        return tf.keras.callbacks.ModelCheckpoint(filepath = self.config.model_checkpoint,\n",
    "                                                  save_best_only = True,)\n",
    "    \n",
    "    def get_callbacks(self):\n",
    "        return [self.create_tb_callback, self.create_checkpoint_callback]\n"
   ]
  },
  {
   "cell_type": "code",
   "execution_count": 81,
   "metadata": {},
   "outputs": [
    {
     "name": "stdout",
     "output_type": "stream",
     "text": [
      "[2025-02-25 15:56:55,194 : INFO : common] - yaml file:config.yaml has been read successfully.\n",
      "[2025-02-25 15:56:55,203 : INFO : common] - yaml file:params.yaml has been read successfully.\n",
      "[2025-02-25 15:56:55,208 : INFO : common] - directory:artifacts has been created successfully.\n",
      "[2025-02-25 15:56:55,234 : INFO : common] - directory:artifacts/callbacks/tensorboard has been created successfully.\n",
      "[2025-02-25 15:56:55,234 : INFO : common] - directory:artifacts/callbacks/checkpoints has been created successfully.\n"
     ]
    }
   ],
   "source": [
    "try:\n",
    "    config = Config_Manager()\n",
    "    callback_config = config.get_callbacks_config()\n",
    "    callback = Prepare_Callback(config = callback_config)\n",
    "    callback_list = callback.get_callbacks()\n",
    "except Exception as e:\n",
    "    raise e"
   ]
  },
  {
   "cell_type": "code",
   "execution_count": null,
   "metadata": {},
   "outputs": [],
   "source": []
  }
 ],
 "metadata": {
  "kernelspec": {
   "display_name": "Python 3",
   "language": "python",
   "name": "python3"
  },
  "language_info": {
   "codemirror_mode": {
    "name": "ipython",
    "version": 3
   },
   "file_extension": ".py",
   "mimetype": "text/x-python",
   "name": "python",
   "nbconvert_exporter": "python",
   "pygments_lexer": "ipython3",
   "version": "3.12.9"
  }
 },
 "nbformat": 4,
 "nbformat_minor": 2
}
